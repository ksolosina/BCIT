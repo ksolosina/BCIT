{
  "nbformat": 4,
  "nbformat_minor": 0,
  "metadata": {
    "colab": {
      "name": "lab5.ipynb",
      "version": "0.3.2",
      "provenance": [],
      "collapsed_sections": [],
      "include_colab_link": true
    },
    "kernelspec": {
      "name": "python3",
      "display_name": "Python 3"
    }
  },
  "cells": [
    {
      "cell_type": "markdown",
      "metadata": {
        "id": "view-in-github",
        "colab_type": "text"
      },
      "source": [
        "<a href=\"https://colab.research.google.com/github/ksolosina/BCIT/blob/master/lab5.ipynb\" target=\"_parent\"><img src=\"https://colab.research.google.com/assets/colab-badge.svg\" alt=\"Open In Colab\"/></a>"
      ]
    },
    {
      "cell_type": "markdown",
      "metadata": {
        "id": "YIP0xQfM6Vq8",
        "colab_type": "text"
      },
      "source": [
        "Задание: 1) Выберите набор данных (датасет) для решения задачи классификации или регресии. 2) В случае необходимости проведите удаление или заполнение пропусков и кодирование категориальных признаков. 3) С использованием метода train_test_split разделите выборку на обучающую и тестовую. 4) Обучите 1) одну из линейных моделей, 2) SVM и 3) дерево решений. Оцените качество моделей с помощью трех подходящих для задачи метрик. Сравните качество полученных моделей. 5) Произведите для каждой модели подбор одного гиперпараметра с использованием GridSearchCV и кросс-валидации. 6) Повторите пункт 4 для найденных оптимальных значений гиперпараметров. Сравните качество полученных моделей с качеством моделей, полученных в пункте 4.\n"
      ]
    },
    {
      "cell_type": "code",
      "metadata": {
        "id": "-DKVLdVt6aqb",
        "colab_type": "code",
        "colab": {}
      },
      "source": [
        "import numpy as np #библиотека для работы с многомерными массивами данных и математическими операциями над ними\n",
        "import pandas as pd #библиотека для анализа и обработки данных\n",
        "from scipy import stats\n",
        "from sklearn.datasets import load_iris #берём датасет\n",
        "import matplotlib.pyplot as plt #простое рисование графиков\n",
        "import seaborn as sns #удобные дефолтные настройки графиков из matpotlib\n",
        "from sklearn.model_selection import train_test_split, GridSearchCV\n",
        "from sklearn.preprocessing import *\n",
        "from sklearn.metrics import *\n",
        "from sklearn.linear_model import LinearRegression # для линейной модели\n",
        "from sklearn.svm import SVR # для SVM модели (метод опорных векторов)\n",
        "from sklearn.tree import DecisionTreeRegressor # для дерева решений\n",
        "\n",
        "%matplotlib inline\n",
        "#для сохранения в ноутбуке вывода моих графиков"
      ],
      "execution_count": 0,
      "outputs": []
    },
    {
      "cell_type": "code",
      "metadata": {
        "id": "JEIvJ8fB6usa",
        "colab_type": "code",
        "colab": {
          "base_uri": "https://localhost:8080/",
          "height": 204
        },
        "outputId": "d57b0116-c870-4bff-8d46-afceecd5d600"
      },
      "source": [
        "df = load_iris()\n",
        "df = pd.DataFrame(data = np.c_[df['data'], df['target']], columns = df['feature_names'] + ['target'])\n",
        "df.head()\n",
        "# таргет цель "
      ],
      "execution_count": 5,
      "outputs": [
        {
          "output_type": "execute_result",
          "data": {
            "text/html": [
              "<div>\n",
              "<style scoped>\n",
              "    .dataframe tbody tr th:only-of-type {\n",
              "        vertical-align: middle;\n",
              "    }\n",
              "\n",
              "    .dataframe tbody tr th {\n",
              "        vertical-align: top;\n",
              "    }\n",
              "\n",
              "    .dataframe thead th {\n",
              "        text-align: right;\n",
              "    }\n",
              "</style>\n",
              "<table border=\"1\" class=\"dataframe\">\n",
              "  <thead>\n",
              "    <tr style=\"text-align: right;\">\n",
              "      <th></th>\n",
              "      <th>sepal length (cm)</th>\n",
              "      <th>sepal width (cm)</th>\n",
              "      <th>petal length (cm)</th>\n",
              "      <th>petal width (cm)</th>\n",
              "      <th>target</th>\n",
              "    </tr>\n",
              "  </thead>\n",
              "  <tbody>\n",
              "    <tr>\n",
              "      <th>0</th>\n",
              "      <td>5.1</td>\n",
              "      <td>3.5</td>\n",
              "      <td>1.4</td>\n",
              "      <td>0.2</td>\n",
              "      <td>0.0</td>\n",
              "    </tr>\n",
              "    <tr>\n",
              "      <th>1</th>\n",
              "      <td>4.9</td>\n",
              "      <td>3.0</td>\n",
              "      <td>1.4</td>\n",
              "      <td>0.2</td>\n",
              "      <td>0.0</td>\n",
              "    </tr>\n",
              "    <tr>\n",
              "      <th>2</th>\n",
              "      <td>4.7</td>\n",
              "      <td>3.2</td>\n",
              "      <td>1.3</td>\n",
              "      <td>0.2</td>\n",
              "      <td>0.0</td>\n",
              "    </tr>\n",
              "    <tr>\n",
              "      <th>3</th>\n",
              "      <td>4.6</td>\n",
              "      <td>3.1</td>\n",
              "      <td>1.5</td>\n",
              "      <td>0.2</td>\n",
              "      <td>0.0</td>\n",
              "    </tr>\n",
              "    <tr>\n",
              "      <th>4</th>\n",
              "      <td>5.0</td>\n",
              "      <td>3.6</td>\n",
              "      <td>1.4</td>\n",
              "      <td>0.2</td>\n",
              "      <td>0.0</td>\n",
              "    </tr>\n",
              "  </tbody>\n",
              "</table>\n",
              "</div>"
            ],
            "text/plain": [
              "   sepal length (cm)  sepal width (cm)  ...  petal width (cm)  target\n",
              "0                5.1               3.5  ...               0.2     0.0\n",
              "1                4.9               3.0  ...               0.2     0.0\n",
              "2                4.7               3.2  ...               0.2     0.0\n",
              "3                4.6               3.1  ...               0.2     0.0\n",
              "4                5.0               3.6  ...               0.2     0.0\n",
              "\n",
              "[5 rows x 5 columns]"
            ]
          },
          "metadata": {
            "tags": []
          },
          "execution_count": 5
        }
      ]
    },
    {
      "cell_type": "code",
      "metadata": {
        "id": "T-Im-DLr8KYa",
        "colab_type": "code",
        "colab": {
          "base_uri": "https://localhost:8080/",
          "height": 364
        },
        "outputId": "d15e90cb-15ee-4a78-d674-e843d17c98a5"
      },
      "source": [
        "#Построим корреляционную матрицу\n",
        "sns.heatmap(df.corr(method='pearson'), annot=True, fmt='.2f')"
      ],
      "execution_count": 6,
      "outputs": [
        {
          "output_type": "execute_result",
          "data": {
            "text/plain": [
              "<matplotlib.axes._subplots.AxesSubplot at 0x7f73f93ccdd8>"
            ]
          },
          "metadata": {
            "tags": []
          },
          "execution_count": 6
        },
        {
          "output_type": "display_data",
          "data": {
            "image/png": "[encoded data removed]",
            "text/plain": [
              "<Figure size 432x288 with 2 Axes>"
            ]
          },
          "metadata": {
            "tags": []
          }
        }
      ]
    },
    {
      "cell_type": "code",
      "metadata": {
        "id": "mdTwkC468Q_B",
        "colab_type": "code",
        "colab": {}
      },
      "source": [
        "df.loc[:, df.columns!='target'] = df.loc[:, df.columns!='target'].apply(lambda x: x/x.max(), axis=0)  # нормализуем данные (нет пустых) "
      ],
      "execution_count": 0,
      "outputs": []
    },
    {
      "cell_type": "code",
      "metadata": {
        "id": "iCEhzOIs8jP3",
        "colab_type": "code",
        "colab": {}
      },
      "source": [
        "x_train, x_test, y_train, y_test = train_test_split(df.loc[:, df.columns!='target'], #тестовая выборка и тренировочная, у - цели трен и тест(через train_test_split) \n",
        "                                                    df['target'], \n",
        "                                                    test_size= 0.33)"
      ],
      "execution_count": 0,
      "outputs": []
    },
    {
      "cell_type": "markdown",
      "metadata": {
        "id": "EJ9MnpMu9qnS",
        "colab_type": "text"
      },
      "source": [
        "Линейная регрессия (метод наименьших квадратов)\n"
      ]
    },
    {
      "cell_type": "code",
      "metadata": {
        "id": "2sM-bUYl9s2S",
        "colab_type": "code",
        "colab": {}
      },
      "source": [
        "lr = LinearRegression().fit(x_train, y_train) #обучили модель натренеровали \n",
        "#линейные модели. ищем точку экстр функц, такую что a сама из себя представляет функу ошибки при этом-> стремится к мин мы ищем коэф пер который даст минимум"
      ],
      "execution_count": 0,
      "outputs": []
    },
    {
      "cell_type": "code",
      "metadata": {
        "id": "d5IBnmEJ-3Bu",
        "colab_type": "code",
        "colab": {
          "base_uri": "https://localhost:8080/",
          "height": 68
        },
        "outputId": "f3a090ae-2a29-4291-9110-fb143c1f76f5"
      },
      "source": [
        "print(mean_absolute_error(lr.predict(x_test), y_test)) #пытаемся предугадать у тест по данным х тест получаем ошибку \n",
        "# средняя абсолютная ошибка\n",
        "print(r2_score(lr.predict(x_test), y_test))\n",
        "# коэффициент детерминации y_test от x_test \n",
        "print(median_absolute_error(lr.predict(x_test), y_test))\n",
        "# медианная абсолютная ошибка"
      ],
      "execution_count": 12,
      "outputs": [
        {
          "output_type": "stream",
          "text": [
            "0.16515838498618557\n",
            "0.907908309924505\n",
            "0.12438050681020885\n"
          ],
          "name": "stdout"
        }
      ]
    },
    {
      "cell_type": "markdown",
      "metadata": {
        "id": "I7CUPV-Z_lbP",
        "colab_type": "text"
      },
      "source": [
        "SVM (метод опорных векторов) поиск разделяющей плоскости"
      ]
    },
    {
      "cell_type": "code",
      "metadata": {
        "id": "uLNhsqTb_mZQ",
        "colab_type": "code",
        "colab": {
          "base_uri": "https://localhost:8080/",
          "height": 71
        },
        "outputId": "44f99ea0-6d1c-4cef-e381-935043c5ffd1"
      },
      "source": [
        "svr = SVR().fit(x_train, y_train) # обучаем модель "
      ],
      "execution_count": 17,
      "outputs": [
        {
          "output_type": "stream",
          "text": [
            "/usr/local/lib/python3.6/dist-packages/sklearn/svm/base.py:193: FutureWarning: The default value of gamma will change from 'auto' to 'scale' in version 0.22 to account better for unscaled features. Set gamma explicitly to 'auto' or 'scale' to avoid this warning.\n",
            "  \"avoid this warning.\", FutureWarning)\n"
          ],
          "name": "stderr"
        }
      ]
    },
    {
      "cell_type": "code",
      "metadata": {
        "id": "o1KYD171_zPw",
        "colab_type": "code",
        "colab": {
          "base_uri": "https://localhost:8080/",
          "height": 68
        },
        "outputId": "8cfda4c9-c868-41d0-f9e0-d33c27aad632"
      },
      "source": [
        "print(mean_absolute_error(svr.predict(x_test), y_test))\n",
        "print(r2_score(svr.predict(x_test), y_test))\n",
        "print(median_absolute_error(svr.predict(x_test), y_test))\n",
        "#выводим статистику \n",
        "#разделим точки в 4х мер пространстве чтобы узнать к какому таргеру мы можем причислить строку, у нас 3 класса, какой вид ириса представляет тот или иной цветок, мы строим n-1мерную плоскость, \n",
        "#которая поможет в буд точно определять какие точки относятся к какому классу. метод опорных векторов работает точнее чем лин регрес\n"
      ],
      "execution_count": 18,
      "outputs": [
        {
          "output_type": "stream",
          "text": [
            "0.16979715548157906\n",
            "0.8963622199188864\n",
            "0.11154607980219122\n"
          ],
          "name": "stdout"
        }
      ]
    },
    {
      "cell_type": "markdown",
      "metadata": {
        "id": "n4ZeEaYtD5t0",
        "colab_type": "text"
      },
      "source": [
        "Decision Tree "
      ]
    },
    {
      "cell_type": "code",
      "metadata": {
        "id": "Y4O7FUUUD8S4",
        "colab_type": "code",
        "colab": {}
      },
      "source": [
        "dt = DecisionTreeRegressor(max_depth=2).fit(x_train, y_train) #обучаем. глубина дерева два шага один вопрос. работает лучше всех моделей "
      ],
      "execution_count": 0,
      "outputs": []
    },
    {
      "cell_type": "code",
      "metadata": {
        "id": "91Oj9NanEmbR",
        "colab_type": "code",
        "colab": {
          "base_uri": "https://localhost:8080/",
          "height": 68
        },
        "outputId": "ef0be30f-577d-40d1-9d07-d58f97597c40"
      },
      "source": [
        "print(mean_absolute_error(dt.predict(x_test), y_test))\n",
        "print(r2_score(dt.predict(x_test), y_test))\n",
        "print(median_absolute_error(dt.predict(x_test), y_test))"
      ],
      "execution_count": 22,
      "outputs": [
        {
          "output_type": "stream",
          "text": [
            "0.1137142857142857\n",
            "0.8349386935100096\n",
            "0.0\n"
          ],
          "name": "stdout"
        }
      ]
    },
    {
      "cell_type": "markdown",
      "metadata": {
        "id": "OGZEGgLyFDgL",
        "colab_type": "text"
      },
      "source": [
        "GridSearch"
      ]
    },
    {
      "cell_type": "code",
      "metadata": {
        "id": "GfP-mP-YFBIN",
        "colab_type": "code",
        "colab": {}
      },
      "source": [
        "lr = GridSearchCV(LinearRegression(), {'n_jobs':range(1,10)}, cv=3).fit(x_train, y_train).best_estimator_\n",
        "# лучшее кол-во джобов=1 () разделение обучения на подпроцессы , обучаем модель"
      ],
      "execution_count": 0,
      "outputs": []
    },
    {
      "cell_type": "code",
      "metadata": {
        "id": "-5fZTDWTFMyX",
        "colab_type": "code",
        "colab": {
          "base_uri": "https://localhost:8080/",
          "height": 68
        },
        "outputId": "dee44034-36c1-4dcd-fd8b-6b1e4b34ee70"
      },
      "source": [
        "print(mean_absolute_error(lr.predict(x_test), y_test))\n",
        "print(r2_score(lr.predict(x_test), y_test))\n",
        "print(median_absolute_error(lr.predict(x_test), y_test))\n"
      ],
      "execution_count": 24,
      "outputs": [
        {
          "output_type": "stream",
          "text": [
            "0.16515838498618557\n",
            "0.907908309924505\n",
            "0.12438050681020885\n"
          ],
          "name": "stdout"
        }
      ]
    },
    {
      "cell_type": "code",
      "metadata": {
        "id": "RmRzasNlFRgM",
        "colab_type": "code",
        "colab": {}
      },
      "source": [
        "svr = GridSearchCV(SVR(), {'degree':range(1,10)}, cv=3).fit(x_train, y_train).best_estimator_\n",
        "# лучшая степень=1"
      ],
      "execution_count": 0,
      "outputs": []
    },
    {
      "cell_type": "code",
      "metadata": {
        "id": "_j-JyHIIFYWI",
        "colab_type": "code",
        "colab": {
          "base_uri": "https://localhost:8080/",
          "height": 68
        },
        "outputId": "d8205b24-c5e7-4738-d609-ce469bc63b5d"
      },
      "source": [
        "print(mean_absolute_error(svr.predict(x_test), y_test))\n",
        "print(r2_score(svr.predict(x_test), y_test))\n",
        "print(median_absolute_error(svr.predict(x_test), y_test))\n"
      ],
      "execution_count": 26,
      "outputs": [
        {
          "output_type": "stream",
          "text": [
            "0.16979715548157906\n",
            "0.8963622199188864\n",
            "0.11154607980219122\n"
          ],
          "name": "stdout"
        }
      ]
    },
    {
      "cell_type": "code",
      "metadata": {
        "id": "uiiSB6d2FbRi",
        "colab_type": "code",
        "colab": {}
      },
      "source": [
        "dt = GridSearchCV(DecisionTreeRegressor(), {'max_depth':range(1,10)}, cv=3).fit(x_train, y_train).best_estimator_\n",
        "# лучшая глубина"
      ],
      "execution_count": 0,
      "outputs": []
    },
    {
      "cell_type": "code",
      "metadata": {
        "id": "Qe6yJrRwFdrI",
        "colab_type": "code",
        "colab": {
          "base_uri": "https://localhost:8080/",
          "height": 68
        },
        "outputId": "612ea1ca-4eda-4322-e05f-444565da3c14"
      },
      "source": [
        "print(mean_absolute_error(dt.predict(x_test), y_test))\n",
        "print(r2_score(dt.predict(x_test), y_test))\n",
        "print(median_absolute_error(dt.predict(x_test), y_test))"
      ],
      "execution_count": 30,
      "outputs": [
        {
          "output_type": "stream",
          "text": [
            "0.1\n",
            "0.8570407433881344\n",
            "0.0\n"
          ],
          "name": "stdout"
        }
      ]
    }
  ]
}